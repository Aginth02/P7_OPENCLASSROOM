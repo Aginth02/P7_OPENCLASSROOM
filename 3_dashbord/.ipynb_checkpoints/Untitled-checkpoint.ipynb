{
 "cells": [
  {
   "cell_type": "code",
   "execution_count": null,
   "metadata": {
    "ExecuteTime": {
     "end_time": "2022-11-09T13:03:03.768611Z",
     "start_time": "2022-11-09T13:03:03.752692Z"
    }
   },
   "outputs": [],
   "source": [
    "#!pip install streamlit-option-menu\n"
   ]
  },
  {
   "cell_type": "code",
   "execution_count": 55,
   "metadata": {
    "ExecuteTime": {
     "end_time": "2022-11-15T19:07:32.578852Z",
     "start_time": "2022-11-15T19:07:32.570851Z"
    }
   },
   "outputs": [],
   "source": [
    "import pandas as pd\n",
    "import os\n",
    "import re\n",
    "import numpy as np\n",
    "import seaborn as sns\n",
    "import matplotlib.pyplot as plt\n",
    "import random\n",
    "# Model and performance\n",
    "from sklearn.ensemble import RandomForestClassifier\n",
    "from sklearn.neighbors import KNeighborsClassifier\n",
    "from lightgbm import LGBMClassifier\n",
    "import lightgbm\n",
    "import pickle"
   ]
  },
  {
   "cell_type": "code",
   "execution_count": 7,
   "metadata": {
    "ExecuteTime": {
     "end_time": "2022-11-15T15:58:47.182804Z",
     "start_time": "2022-11-15T15:58:46.157806Z"
    }
   },
   "outputs": [],
   "source": [
    "dataset_train = pd.read_csv('data/df_train_final.csv',index_col=0)\n",
    "dataset_test = pd.read_csv('data/df_test_final.csv',index_col=0)\n",
    "target_train = pd.read_csv('data/target_train_final.csv',index_col=0)\n",
    "model = pickle.load(open('data/best_model.pickle', 'rb'))\n",
    "scaler = pickle.load(open('data/scaler.pickle', 'rb'))\n",
    "#descrip = pd.read_csv('OPENCLASSROOM/P7/1_preprocess/input/HomeCredit_columns_description.csv', encoding = \"ISO-8859-1\")"
   ]
  },
  {
   "cell_type": "code",
   "execution_count": 8,
   "metadata": {
    "ExecuteTime": {
     "end_time": "2022-11-15T15:58:47.899116Z",
     "start_time": "2022-11-15T15:58:47.833375Z"
    }
   },
   "outputs": [],
   "source": [
    "dataset_train_nostandar = scaler.inverse_transform(dataset_train)\n",
    "dataset_train_nostandar = pd.DataFrame(dataset_train_nostandar,columns=dataset_train.columns)"
   ]
  },
  {
   "cell_type": "code",
   "execution_count": 9,
   "metadata": {
    "ExecuteTime": {
     "end_time": "2022-11-15T15:58:48.339413Z",
     "start_time": "2022-11-15T15:58:48.309662Z"
    }
   },
   "outputs": [],
   "source": [
    "dataset_test_nostandar = scaler.inverse_transform(dataset_test)\n",
    "dataset_test_nostandar = pd.DataFrame(dataset_test_nostandar,columns=dataset_test.columns,index=dataset_test.index)"
   ]
  },
  {
   "cell_type": "code",
   "execution_count": 10,
   "metadata": {
    "ExecuteTime": {
     "end_time": "2022-11-15T15:58:49.354239Z",
     "start_time": "2022-11-15T15:58:49.335237Z"
    }
   },
   "outputs": [],
   "source": [
    "def definition_var(fichier,df):\n",
    "    descrip=df[df['Table']==fichier]\n",
    "    ls_var=list(descrip['Row'])\n",
    "    for variable in ls_var :\n",
    "        z = descrip[descrip['Row']==variable].index[0]\n",
    "        print(variable,' =',df['Description'][z],'\\n')\n",
    "    return"
   ]
  },
  {
   "cell_type": "code",
   "execution_count": 11,
   "metadata": {
    "ExecuteTime": {
     "end_time": "2022-11-15T15:58:55.122558Z",
     "start_time": "2022-11-15T15:58:55.107486Z"
    }
   },
   "outputs": [],
   "source": [
    "#definition_var('application_{train|test}.csv',descrip)"
   ]
  },
  {
   "cell_type": "code",
   "execution_count": 12,
   "metadata": {
    "ExecuteTime": {
     "end_time": "2022-11-15T15:58:55.451703Z",
     "start_time": "2022-11-15T15:58:55.434546Z"
    }
   },
   "outputs": [],
   "source": [
    "list_columns_plus = list(dataset_train.columns)"
   ]
  },
  {
   "cell_type": "code",
   "execution_count": 13,
   "metadata": {
    "ExecuteTime": {
     "end_time": "2022-11-15T15:58:55.767233Z",
     "start_time": "2022-11-15T15:58:55.759236Z"
    }
   },
   "outputs": [],
   "source": [
    "ls_csv_motif = ['POS_','INSTAL_','CC_','PREV_','BURO_']"
   ]
  },
  {
   "cell_type": "code",
   "execution_count": 14,
   "metadata": {
    "ExecuteTime": {
     "end_time": "2022-11-15T15:58:56.646587Z",
     "start_time": "2022-11-15T15:58:56.630505Z"
    }
   },
   "outputs": [],
   "source": [
    "def dico_col(ls_motif,ls_plus):\n",
    "    dict_col=dict()\n",
    "    for i in ls_motif:\n",
    "        dict_col[i]=[]\n",
    "        motif_len=len(i)\n",
    "        for j in ls_plus:\n",
    "            if i == j[:motif_len] : \n",
    "                dict_col[i].append(j)\n",
    "\n",
    "    return dict_col\n"
   ]
  },
  {
   "cell_type": "code",
   "execution_count": 15,
   "metadata": {
    "ExecuteTime": {
     "end_time": "2022-11-15T15:58:57.083116Z",
     "start_time": "2022-11-15T15:58:57.066721Z"
    }
   },
   "outputs": [],
   "source": [
    "dict_col = dico_col(ls_csv_motif,list_columns_plus)"
   ]
  },
  {
   "cell_type": "code",
   "execution_count": 16,
   "metadata": {
    "ExecuteTime": {
     "end_time": "2022-11-15T15:59:03.844270Z",
     "start_time": "2022-11-15T15:59:03.826191Z"
    }
   },
   "outputs": [],
   "source": [
    "def gender(X):\n",
    "    if X['CODE_GENDER']== 0 :\n",
    "        gender = 'Masculin'\n",
    "    else :\n",
    "        gender= 'Féminin'\n",
    "    \n",
    "    code_gender='Sexe : '+ gender\n",
    "    \n",
    "    return code_gender"
   ]
  },
  {
   "cell_type": "code",
   "execution_count": 17,
   "metadata": {
    "ExecuteTime": {
     "end_time": "2022-11-15T15:59:04.820281Z",
     "start_time": "2022-11-15T15:59:04.804281Z"
    }
   },
   "outputs": [],
   "source": [
    "def age(X):\n",
    "    nb_age = np.round(X['DAYS_BIRTH']/-365.25)\n",
    "    age = 'Age : '+ str(nb_age)+ ' ANS'\n",
    "    return age "
   ]
  },
  {
   "cell_type": "code",
   "execution_count": 18,
   "metadata": {
    "ExecuteTime": {
     "end_time": "2022-11-15T15:59:05.859585Z",
     "start_time": "2022-11-15T15:59:05.845585Z"
    }
   },
   "outputs": [],
   "source": [
    "def distribution_age(X,df_train):\n",
    "    nb_age = np.round(X['DAYS_BIRTH']/-365.25)\n",
    "    age_train = np.round(df_train['DAYS_BIRTH']/-365.25)\n",
    "    fig =plt.figure(figsize=(25,20))\n",
    "    sns.set_style(\"darkgrid\")\n",
    "    sns.displot(age_train)\n",
    "    plt.axvline(nb_age, 0,90,color='red')\n",
    "    \n",
    "    return fig"
   ]
  },
  {
   "cell_type": "code",
   "execution_count": 19,
   "metadata": {
    "ExecuteTime": {
     "end_time": "2022-11-15T15:59:06.396843Z",
     "start_time": "2022-11-15T15:59:06.382303Z"
    }
   },
   "outputs": [],
   "source": [
    "def type_house(X):\n",
    "    ls_house=[]\n",
    "    for i in X.index:\n",
    "        if 'NAME_HOUSING_TYPE' in i :\n",
    "            ls_house.append(i)\n",
    "    new_X=X[ls_house]\n",
    "    house = new_X[new_X==1].index[0]\n",
    "    house = house.replace('NAME_HOUSING_TYPE_',\"\")\n",
    "    type_house = 'Type de logement : '+ house\n",
    "    return type_house"
   ]
  },
  {
   "cell_type": "code",
   "execution_count": 42,
   "metadata": {
    "ExecuteTime": {
     "end_time": "2022-11-15T16:25:20.719071Z",
     "start_time": "2022-11-15T16:25:20.702072Z"
    }
   },
   "outputs": [],
   "source": [
    "def family (X):\n",
    "    nb_child = int(np.round(X['CNT_CHILDREN']))\n",
    "    nb_fam_memb = int(np.round(X['CNT_FAM_MEMBERS']))\n",
    "    \n",
    "    ls_fam_status=[] ; ls_occupation_type=[]\n",
    "    \n",
    "    for i in X.index :\n",
    "        if 'NAME_FAMILY_STATUS' in i :\n",
    "            ls_fam_status.append(i)\n",
    "        if  'OCCUPATION_TYPE' in i :\n",
    "            ls_occupation_type.append(i)\n",
    "            \n",
    "    new_X_fam=X[ls_fam_status] ; new_X_occup=X[ls_occupation_type]\n",
    "    \n",
    "    status = new_X_fam[new_X_fam==1].index[0]\n",
    "    status = status.replace('NAME_FAMILY_STATUS_',\"\")\n",
    "    \n",
    "    if len(new_X_occup[new_X_occup==1]) > 0:\n",
    "        occupation = new_X_occup[new_X_occup==1].index[0]\n",
    "        occupation = occupation.replace('OCCUPATION_TYPE_',\"\")\n",
    "    else :\n",
    "        occupation = 'no information'\n",
    "        \n",
    "        \n",
    "    child = \"Nombre d'enfant : \"+ str(nb_child)\n",
    "    fam_memb = \"Nombre de membre de la famille : \" + str(nb_fam_memb)\n",
    "    status = \"Status Familiale : \"+ status\n",
    "    occupation = 'Emploi : '+ occupation\n",
    "    return [child,fam_memb,status,occupation]"
   ]
  },
  {
   "cell_type": "code",
   "execution_count": 65,
   "metadata": {
    "ExecuteTime": {
     "end_time": "2022-11-15T20:39:16.342918Z",
     "start_time": "2022-11-15T20:39:16.318916Z"
    }
   },
   "outputs": [],
   "source": [
    "def distribution_salaire(X,df_train):\n",
    "    salary = np.round(X['AMT_INCOME_TOTAL'],3)\n",
    "    salary_train = np.round(df_train['AMT_INCOME_TOTAL'],3)\n",
    "\n",
    "    #fig = sns.displot(salary_train)\n",
    "    #fig.refline(x = salary,color = \"red\",lw = 3)\n",
    "    #plt.pyplot(fig)\n",
    "    #return\n",
    "    fig =plt.figure(figsize=(25,20))\n",
    "    sns.set_style(\"darkgrid\")\n",
    "    sns.displot(salary_train)\n",
    "    plt.axvline(salary, 0,90,color='red')\n",
    "    \n",
    "    return"
   ]
  },
  {
   "cell_type": "code",
   "execution_count": 59,
   "metadata": {
    "ExecuteTime": {
     "end_time": "2022-11-15T19:10:37.938375Z",
     "start_time": "2022-11-15T19:10:37.922409Z"
    }
   },
   "outputs": [],
   "source": [
    "def credit_salary(X) :\n",
    "    credit=np.round(X['AMT_CREDIT'],3)\n",
    "    annuity = np.round(X['AMT_ANNUITY'],3)\n",
    "    salary = np.round(X['AMT_INCOME_TOTAL'],3)\n",
    "    \n",
    "    payment_rate = np.round(X['PAYMENT_RATE'],3)\n",
    "    annuity_perc = np.round(X['ANNUITY_INCOME_PERC'],3)\n",
    "    cred_perc = np.round(X['INCOME_CREDIT_PERC'],3)\n",
    "    \n",
    "    ls_contrat = []\n",
    "    for i in X.index :\n",
    "        if (re.search('^NAME_CONTRACT_TYPE',i)) != None :\n",
    "            ls_contrat.append(i)\n",
    "            \n",
    "    new_X=X[ls_contrat]\n",
    "    type_contrat = new_X[new_X==1].index[0]\n",
    "    type_contrat = type_contrat.replace('NAME_CONTRACT_TYPE_',\"\")\n",
    "    \n",
    "    credit= 'Montant du crédit : '+str(credit)+'$'\n",
    "    annuity= 'Annuités de prêt : '+str(annuity)+'$'\n",
    "    salary = 'Salaire du client : '+str(salary)+'$'\n",
    "    payment_rate = 'Taux de paiement : '+str(np.round(payment_rate*100))+'%'\n",
    "    annuity_perc = \"Annuité = \"+str(np.round(annuity_perc*100))+'% du Salaire Annuel'\n",
    "    cred_perc = \"Salaire = \"+str(np.round(cred_perc*100))+'% du Crédit '\n",
    "    type_contrat = 'Type de contrat : '+type_contrat\n",
    "    \n",
    "    return credit,annuity,salary,payment_rate,annuity_perc,cred_perc,type_contrat"
   ]
  },
  {
   "cell_type": "code",
   "execution_count": 92,
   "metadata": {
    "ExecuteTime": {
     "end_time": "2022-11-15T23:21:42.786880Z",
     "start_time": "2022-11-15T23:21:42.766963Z"
    }
   },
   "outputs": [],
   "source": [
    "def previous_credit(X):\n",
    "    mean_annuity_homeC= np.round(X['PREV_AMT_ANNUITY_MEAN'],3)\n",
    "    mean_credit_homeC = np.round(X['PREV_AMT_CREDIT_MEAN'],3)\n",
    "    mean_time_homeC = np.round(X['PREV_CNT_PAYMENT_MEAN'],3)\n",
    "    \n",
    "    mean_credit_BurC = np.round(X['BURO_AMT_CREDIT_SUM_MEAN'],3)\n",
    "    mean_dette_BurC = np.round(X['BURO_AMT_CREDIT_SUM_DEBT_MEAN'],3)\n",
    "    \n",
    "    \n",
    "    mean_annuity_homeC='Annuité Moyenne : '+str(mean_annuity_homeC)+'$'\n",
    "    mean_credit_homeC='Crédit Moyen : '+str(mean_credit_homeC)+'$'\n",
    "    mean_time_homeC=' Durée moyen de remboursement : '+str(mean_time_homeC)+' ans'\n",
    "    \n",
    "    mean_credit_BurC=\"Crédit Moyen :\"+str(mean_credit_BurC)+'$'\n",
    "    mean_dette_BurC=\"Dettes Moyennes : \"+str(mean_dette_BurC)+'$'\n",
    "    \n",
    "    return [mean_annuity_homeC,mean_credit_homeC,mean_time_homeC,mean_credit_BurC,mean_dette_BurC]"
   ]
  },
  {
   "cell_type": "raw",
   "metadata": {},
   "source": [
    "PREV : PREV_AMT_ANNUITY_MEAN : Annuite moyenne\n",
    "       PREV_AMT_CREDIT_MEAN : Monntant Moyen des credits\n",
    "       PREV_CNT_PAYMENT_MEAN : durée moyenne\n",
    "\n",
    "BURO : BURO_AMT_CREDIT_SUM_MEAN : Montant actuel du crédit pour le crédit du bureau de crédit\n",
    "       BURO_AMT_CREDIT_SUM_DEBT_MEAN : Dette actuelle sur crédit du bureau de crédit\n",
    "\n",
    "      \n",
    "\n"
   ]
  },
  {
   "cell_type": "code",
   "execution_count": 91,
   "metadata": {
    "ExecuteTime": {
     "end_time": "2022-11-15T23:09:54.727625Z",
     "start_time": "2022-11-15T23:09:54.711625Z"
    }
   },
   "outputs": [
    {
     "name": "stdout",
     "output_type": "stream",
     "text": [
      "POS_COUNT\n",
      "POS_MONTHS_BALANCE_MAX\n",
      "POS_MONTHS_BALANCE_MEAN\n",
      "POS_MONTHS_BALANCE_SIZE\n",
      "POS_NAME_CONTRACT_STATUS_Active_MEAN\n",
      "POS_NAME_CONTRACT_STATUS_Amortized debt_MEAN\n",
      "POS_NAME_CONTRACT_STATUS_Approved_MEAN\n",
      "POS_NAME_CONTRACT_STATUS_Canceled_MEAN\n",
      "POS_NAME_CONTRACT_STATUS_Completed_MEAN\n",
      "POS_NAME_CONTRACT_STATUS_Demand_MEAN\n",
      "POS_NAME_CONTRACT_STATUS_Returned to the store_MEAN\n",
      "POS_NAME_CONTRACT_STATUS_Signed_MEAN\n",
      "POS_NAME_CONTRACT_STATUS_XNA_MEAN\n",
      "POS_NAME_CONTRACT_STATUS_nan_MEAN\n",
      "POS_SK_DPD_DEF_MAX\n",
      "POS_SK_DPD_DEF_MEAN\n",
      "POS_SK_DPD_MAX\n",
      "POS_SK_DPD_MEAN\n"
     ]
    }
   ],
   "source": [
    "for i in dataset_test_nostandar.columns:\n",
    "    if (re.search('^POS',i)) != None :\n",
    "        print(i)"
   ]
  },
  {
   "cell_type": "code",
   "execution_count": 93,
   "metadata": {
    "ExecuteTime": {
     "end_time": "2022-11-15T23:22:04.860583Z",
     "start_time": "2022-11-15T23:22:04.829461Z"
    }
   },
   "outputs": [
    {
     "name": "stdout",
     "output_type": "stream",
     "text": [
      "429190\n",
      "Client  429190  :  ['Annuité Moyenne : 15805.688$', 'Crédit Moyen : 172721.25$', ' Durée moyen de remboursement : 12.0$', 'Crédit Moyen :356317.071$', 'Dettes Moyennes : 173961.75$']\n",
      "321645\n",
      "Client  321645  :  ['Annuité Moyenne : 12247.087$', 'Crédit Moyen : 115395.75$', ' Durée moyen de remboursement : 5.0$', 'Crédit Moyen :853089.3$', 'Dettes Moyennes : 399793.5$']\n",
      "118386\n",
      "Client  118386  :  ['Annuité Moyenne : 3223.665$', 'Crédit Moyen : 29173.5$', ' Durée moyen de remboursement : 12.0$', 'Crédit Moyen :192350.24$', 'Dettes Moyennes : 44304.9$']\n",
      "392820\n",
      "Client  392820  :  ['Annuité Moyenne : 17706.57$', 'Crédit Moyen : 222906.214$', ' Durée moyen de remboursement : 10.667$', 'Crédit Moyen :419286.375$', 'Dettes Moyennes : 59142.0$']\n",
      "306569\n",
      "Client  306569  :  ['Annuité Moyenne : 16998.495$', 'Crédit Moyen : 171883.8$', ' Durée moyen de remboursement : 12.0$', 'Crédit Moyen :355524.466$', 'Dettes Moyennes : 0.0$']\n",
      "177802\n",
      "Client  177802  :  ['Annuité Moyenne : 16784.499$', 'Crédit Moyen : 150611.625$', ' Durée moyen de remboursement : 12.5$', 'Crédit Moyen :94499.91$', 'Dettes Moyennes : 0.0$']\n",
      "407598\n",
      "Client  407598  :  ['Annuité Moyenne : 19865.715$', 'Crédit Moyen : 343916.437$', ' Durée moyen de remboursement : 24.0$', 'Crédit Moyen :188303.561$', 'Dettes Moyennes : 48258.75$']\n",
      "180101\n",
      "Client  180101  :  ['Annuité Moyenne : 11561.355$', 'Crédit Moyen : 50036.318$', ' Durée moyen de remboursement : 12.0$', 'Crédit Moyen :112436.357$', 'Dettes Moyennes : 37048.5$']\n",
      "300358\n",
      "Client  300358  :  ['Annuité Moyenne : 18373.821$', 'Crédit Moyen : 220041.0$', ' Durée moyen de remboursement : 8.571$', 'Crédit Moyen :289901.691$', 'Dettes Moyennes : 139788.0$']\n",
      "197978\n",
      "Client  197978  :  ['Annuité Moyenne : 12309.159$', 'Crédit Moyen : 96245.466$', ' Durée moyen de remboursement : 10.857$', 'Crédit Moyen :163331.55$', 'Dettes Moyennes : 47534.841$']\n"
     ]
    }
   ],
   "source": [
    "for i in dataset_test_nostandar.index[:10]:\n",
    "    print(i)\n",
    "    X=dataset_test_nostandar.loc[i]\n",
    "    type_log = previous_credit(X)\n",
    "    print('Client ',i,' : ',type_log)\n",
    "    #fig = distribution_age(X,dataset_train_nostandar)"
   ]
  },
  {
   "cell_type": "code",
   "execution_count": 22,
   "metadata": {
    "ExecuteTime": {
     "end_time": "2022-11-10T14:38:51.570384Z",
     "start_time": "2022-11-10T14:38:51.562382Z"
    }
   },
   "outputs": [
    {
     "data": {
      "text/plain": [
       "<Figure size 1800x1440 with 0 Axes>"
      ]
     },
     "execution_count": 22,
     "metadata": {},
     "output_type": "execute_result"
    }
   ],
   "source": [
    "fig"
   ]
  },
  {
   "cell_type": "code",
   "execution_count": 202,
   "metadata": {
    "ExecuteTime": {
     "end_time": "2022-11-10T14:11:48.399704Z",
     "start_time": "2022-11-10T14:11:48.383707Z"
    }
   },
   "outputs": [
    {
     "data": {
      "text/plain": [
       "26.0"
      ]
     },
     "execution_count": 202,
     "metadata": {},
     "output_type": "execute_result"
    }
   ],
   "source": []
  },
  {
   "cell_type": "code",
   "execution_count": null,
   "metadata": {},
   "outputs": [],
   "source": []
  }
 ],
 "metadata": {
  "kernelspec": {
   "display_name": "Python 3",
   "language": "python",
   "name": "python3"
  },
  "language_info": {
   "codemirror_mode": {
    "name": "ipython",
    "version": 3
   },
   "file_extension": ".py",
   "mimetype": "text/x-python",
   "name": "python",
   "nbconvert_exporter": "python",
   "pygments_lexer": "ipython3",
   "version": "3.8.5"
  },
  "varInspector": {
   "cols": {
    "lenName": 16,
    "lenType": 16,
    "lenVar": 40
   },
   "kernels_config": {
    "python": {
     "delete_cmd_postfix": "",
     "delete_cmd_prefix": "del ",
     "library": "var_list.py",
     "varRefreshCmd": "print(var_dic_list())"
    },
    "r": {
     "delete_cmd_postfix": ") ",
     "delete_cmd_prefix": "rm(",
     "library": "var_list.r",
     "varRefreshCmd": "cat(var_dic_list()) "
    }
   },
   "types_to_exclude": [
    "module",
    "function",
    "builtin_function_or_method",
    "instance",
    "_Feature"
   ],
   "window_display": false
  }
 },
 "nbformat": 4,
 "nbformat_minor": 4
}
